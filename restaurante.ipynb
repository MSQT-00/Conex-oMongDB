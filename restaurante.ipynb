{
  "nbformat": 4,
  "nbformat_minor": 0,
  "metadata": {
    "colab": {
      "provenance": [],
      "authorship_tag": "ABX9TyNr3XjW0GvqBq2k6kh4a72i",
      "include_colab_link": true
    },
    "kernelspec": {
      "name": "python3",
      "display_name": "Python 3"
    },
    "language_info": {
      "name": "python"
    }
  },
  "cells": [
    {
      "cell_type": "markdown",
      "metadata": {
        "id": "view-in-github",
        "colab_type": "text"
      },
      "source": [
        "<a href=\"https://colab.research.google.com/github/MSQT-00/Conex-oMongDB/blob/main/restaurante.ipynb\" target=\"_parent\"><img src=\"https://colab.research.google.com/assets/colab-badge.svg\" alt=\"Open In Colab\"/></a>"
      ]
    },
    {
      "cell_type": "markdown",
      "source": [
        "Passo 1: Instalar bibliotecas necessárias no Colab"
      ],
      "metadata": {
        "id": "UPLSsm3B26rm"
      }
    },
    {
      "cell_type": "code",
      "source": [
        "!pip install pymongo"
      ],
      "metadata": {
        "colab": {
          "base_uri": "https://localhost:8080/"
        },
        "id": "rkEd2Cuw28vd",
        "outputId": "6726ad24-71ac-4426-8bd2-21e57fb19a5b"
      },
      "execution_count": 1,
      "outputs": [
        {
          "output_type": "stream",
          "name": "stdout",
          "text": [
            "Collecting pymongo\n",
            "  Downloading pymongo-4.10.1-cp310-cp310-manylinux_2_17_x86_64.manylinux2014_x86_64.whl.metadata (22 kB)\n",
            "Collecting dnspython<3.0.0,>=1.16.0 (from pymongo)\n",
            "  Downloading dnspython-2.7.0-py3-none-any.whl.metadata (5.8 kB)\n",
            "Downloading pymongo-4.10.1-cp310-cp310-manylinux_2_17_x86_64.manylinux2014_x86_64.whl (1.4 MB)\n",
            "\u001b[2K   \u001b[90m━━━━━━━━━━━━━━━━━━━━━━━━━━━━━━━━━━━━━━━━\u001b[0m \u001b[32m1.4/1.4 MB\u001b[0m \u001b[31m16.1 MB/s\u001b[0m eta \u001b[36m0:00:00\u001b[0m\n",
            "\u001b[?25hDownloading dnspython-2.7.0-py3-none-any.whl (313 kB)\n",
            "\u001b[2K   \u001b[90m━━━━━━━━━━━━━━━━━━━━━━━━━━━━━━━━━━━━━━━━\u001b[0m \u001b[32m313.6/313.6 kB\u001b[0m \u001b[31m22.5 MB/s\u001b[0m eta \u001b[36m0:00:00\u001b[0m\n",
            "\u001b[?25hInstalling collected packages: dnspython, pymongo\n",
            "Successfully installed dnspython-2.7.0 pymongo-4.10.1\n"
          ]
        }
      ]
    },
    {
      "cell_type": "markdown",
      "source": [
        "Passo 2: Conectar ao MongoDB Atlas"
      ],
      "metadata": {
        "id": "yW-RyKUY3AbG"
      }
    },
    {
      "cell_type": "code",
      "source": [
        "import pymongo\n",
        "import json\n",
        "# URL de conexão ao MongoDB Atlas (substitua pela sua)\n",
        "client = pymongo.MongoClient(\"mongodb+srv://msqt_00:<msqt_00>@clusterfatec.ntgpd.mongodb.net/?retryWrites=true&w=majority&appName=ClusterFatec\")\n",
        "# Acessar o banco de dados e a coleção\n",
        "db = client[\"restaurant_database\"]\n",
        "collection = db[\"restaurants\"]"
      ],
      "metadata": {
        "id": "hIe-VOW73EE4"
      },
      "execution_count": null,
      "outputs": []
    },
    {
      "cell_type": "markdown",
      "source": [
        "Passo 3: Carregar o arquivo JSON e inserir os dados no MongoDB"
      ],
      "metadata": {
        "id": "Rj8md9mz4uRr"
      }
    },
    {
      "cell_type": "code",
      "source": [
        "# Montar o Google Drive (caso o arquivo esteja no Google Drive)\n",
        "from google.colab import drive\n",
        "drive.mount('/content/drive')\n",
        "# Caminho do arquivo (substitua pelo caminho correto se necessário)\n",
        "file_path = \"/content/restaurant.json\"\n",
        "# Ler objectId\n",
        "from bson import ObjectId\n",
        "# Abrir o arquivo JSON e carregar os dados\n",
        "data = []\n",
        "with open(file_path, \"r\", encoding='utf-8') as file:\n",
        "for line in file:\n",
        "record = json.loads(line)\n",
        "# Converter o campo '_id' com o $oid em ObjectId\n",
        "if '_id' in record and '$oid' in record['_id']:\n",
        "record['_id'] = ObjectId(record['_id']['$oid'])\n",
        "data.append(record)\n",
        "# Inserir os dados no MongoDB Atlas\n",
        "collection.insert_many(data)\n",
        "print(\"Dados inseridos com sucesso!\")"
      ],
      "metadata": {
        "id": "ZJwb1Y1u43F2"
      },
      "execution_count": null,
      "outputs": []
    },
    {
      "cell_type": "markdown",
      "source": [
        "Passo 4: Verificar a inserção"
      ],
      "metadata": {
        "id": "gbMyHacf5vIN"
      }
    },
    {
      "cell_type": "code",
      "source": [
        "# Verificar um documento inserido\n",
        "documento = collection.find_one()\n",
        "print(documento)"
      ],
      "metadata": {
        "id": "EIdrw5_e6V4A"
      },
      "execution_count": null,
      "outputs": []
    },
    {
      "cell_type": "markdown",
      "source": [
        "EXERCÍCIOS\n",
        "Operações de Create:\n",
        "1. Insira um novo restaurante com o nome \"Nova Pizzaria\" e os seguintes detalhes: endereço, código postal, e classificação de 4.5."
      ],
      "metadata": {
        "id": "yU8Qe-bJ6kMI"
      }
    },
    {
      "cell_type": "code",
      "source": [],
      "metadata": {
        "id": "eqSdoVH26lH6"
      },
      "execution_count": null,
      "outputs": []
    },
    {
      "cell_type": "markdown",
      "source": [
        "2. Crie um documento para um restaurante com o tipo de comida \"Vegano\", com a classificação 5 e localizado em \"Rio de Janeiro, RJ\"."
      ],
      "metadata": {
        "id": "lpitc4Ay6lhJ"
      }
    },
    {
      "cell_type": "code",
      "source": [],
      "metadata": {
        "id": "cSDMaP1j6oWq"
      },
      "execution_count": null,
      "outputs": []
    },
    {
      "cell_type": "markdown",
      "source": [
        "3. Adicione uma lista de pratos principais ao restaurante \"A & G Kitchen\", incluindo \"Pizza Margherita\", \"Lasanha Vegana\" e \"Risotto de Cogumelos\"."
      ],
      "metadata": {
        "id": "_fx-LEI76oqR"
      }
    },
    {
      "cell_type": "code",
      "source": [],
      "metadata": {
        "id": "0WRwFPY-6qHB"
      },
      "execution_count": null,
      "outputs": []
    },
    {
      "cell_type": "markdown",
      "source": [
        "4. Crie um documento com um restaurante que tenha múltiplos endereços em diferentes cidades e adicione as classificações individuais para cada localização."
      ],
      "metadata": {
        "id": "HFZF-YG-6qjA"
      }
    },
    {
      "cell_type": "code",
      "source": [],
      "metadata": {
        "id": "_n1t5sDP6spa"
      },
      "execution_count": null,
      "outputs": []
    },
    {
      "cell_type": "markdown",
      "source": [
        "5. Insira um restaurante com uma avaliação vazia e adicione campos para indicar os horários de funcionamento: \"Segunda a Sexta: 9h às 22h\", \"Sábado e Domingo: 11h às 23h\"."
      ],
      "metadata": {
        "id": "C8ut6U6N6tFx"
      }
    },
    {
      "cell_type": "code",
      "source": [],
      "metadata": {
        "id": "xVod-FYQ6u70"
      },
      "execution_count": null,
      "outputs": []
    },
    {
      "cell_type": "markdown",
      "source": [
        "Operações de Read:\n",
        "6. Liste todos os restaurantes que possuem o tipo de comida \"Chinesa\"."
      ],
      "metadata": {
        "id": "dmN3ftvb6vJb"
      }
    },
    {
      "cell_type": "code",
      "source": [],
      "metadata": {
        "id": "eLnnR_jy6x0T"
      },
      "execution_count": null,
      "outputs": []
    },
    {
      "cell_type": "markdown",
      "source": [
        "7. Busque e exiba todos os restaurantes localizados na cidade de \"Cardiff\"."
      ],
      "metadata": {
        "id": "XHGVtybz6wQL"
      }
    },
    {
      "cell_type": "code",
      "source": [],
      "metadata": {
        "id": "d3Wf1sCi61Sj"
      },
      "execution_count": null,
      "outputs": []
    },
    {
      "cell_type": "markdown",
      "source": [
        "8. Filtre os restaurantes com uma classificação superior a 5 e exiba seus nomes e tipos de comida."
      ],
      "metadata": {
        "id": "4Yw0QQNV612b"
      }
    },
    {
      "cell_type": "code",
      "source": [],
      "metadata": {
        "id": "I253SQ4a63hT"
      },
      "execution_count": null,
      "outputs": []
    },
    {
      "cell_type": "markdown",
      "source": [
        "9. Encontre um restaurante pelo seu nome exato e exiba todas as informações associadas."
      ],
      "metadata": {
        "id": "PDVk-mmZ65YE"
      }
    },
    {
      "cell_type": "code",
      "source": [],
      "metadata": {
        "id": "Zz2AeBR7654U"
      },
      "execution_count": null,
      "outputs": []
    },
    {
      "cell_type": "markdown",
      "source": [
        "10. Liste os 5 restaurantes com a maior avaliação no banco de dados."
      ],
      "metadata": {
        "id": "_erja4Zf65-1"
      }
    },
    {
      "cell_type": "code",
      "source": [],
      "metadata": {
        "id": "cfBTMMpy67fy"
      },
      "execution_count": null,
      "outputs": []
    },
    {
      "cell_type": "markdown",
      "source": [
        "Operações de Update:\n",
        "11. Atualize a classificação do restaurante \"007 Takeaway\" para 6.5."
      ],
      "metadata": {
        "id": "R83gOjnb69nt"
      }
    },
    {
      "cell_type": "code",
      "source": [],
      "metadata": {
        "id": "ztYb4xoB6-G-"
      },
      "execution_count": null,
      "outputs": []
    },
    {
      "cell_type": "markdown",
      "source": [
        "12. Altere o tipo de comida de todos os restaurantes com a classificação 4.0 para \"Fusão Contemporânea\"."
      ],
      "metadata": {
        "id": "xroL2L5P6-i8"
      }
    },
    {
      "cell_type": "code",
      "source": [],
      "metadata": {
        "id": "4PKcw3Ez7ALN"
      },
      "execution_count": null,
      "outputs": []
    },
    {
      "cell_type": "markdown",
      "source": [
        "13. Adicione uma lista de comentários de clientes ao restaurante \"113 Fish Bar\", com pelo menos 3 comentários diferentes."
      ],
      "metadata": {
        "id": "bNXOM6AZ7ATG"
      }
    },
    {
      "cell_type": "code",
      "source": [],
      "metadata": {
        "id": "MdBRu4sT7Bnd"
      },
      "execution_count": null,
      "outputs": []
    },
    {
      "cell_type": "markdown",
      "source": [
        "14. Modifique o endereço do restaurante \"A M Mians\" para \"Rua Nova, 123\" e a cidade para \"Lisboa\"."
      ],
      "metadata": {
        "id": "9anwoIgw7Btt"
      }
    },
    {
      "cell_type": "code",
      "source": [],
      "metadata": {
        "id": "-NVyTF5A7DLu"
      },
      "execution_count": null,
      "outputs": []
    },
    {
      "cell_type": "markdown",
      "source": [
        "15. Atualize o campo de URL do restaurante \"@ Thai Restaurant\" para refletir um novo domínio: \"http://www.example-thairestaurant.com/menu\"."
      ],
      "metadata": {
        "id": "D8L1FbmY7DeN"
      }
    },
    {
      "cell_type": "code",
      "source": [],
      "metadata": {
        "id": "zEnFL8or7FQM"
      },
      "execution_count": null,
      "outputs": []
    },
    {
      "cell_type": "markdown",
      "source": [
        "Operações de Delete:\n",
        "16. Exclua todos os restaurantes com uma classificação abaixo de 3."
      ],
      "metadata": {
        "id": "KKsbwlxk7HDu"
      }
    },
    {
      "cell_type": "code",
      "source": [],
      "metadata": {
        "id": "TiTN7FG07Hi3"
      },
      "execution_count": null,
      "outputs": []
    },
    {
      "cell_type": "markdown",
      "source": [
        "17. Remova um restaurante cujo nome contenha \"Pizza\" e esteja localizado na cidade de \"Manchester\"."
      ],
      "metadata": {
        "id": "HfV_mI7B7Hwd"
      }
    },
    {
      "cell_type": "code",
      "source": [],
      "metadata": {
        "id": "8AhCMjp57JKc"
      },
      "execution_count": null,
      "outputs": []
    },
    {
      "cell_type": "markdown",
      "source": [
        "18. Delete todos os restaurantes que possuem o tipo de comida \"Curry\"."
      ],
      "metadata": {
        "id": "u6wqBT7Z7JZ9"
      }
    },
    {
      "cell_type": "code",
      "source": [],
      "metadata": {
        "id": "rrgdjdAd7K9s"
      },
      "execution_count": null,
      "outputs": []
    },
    {
      "cell_type": "markdown",
      "source": [
        "19. Exclua o restaurante com o nome \"A & T Mundi House\"."
      ],
      "metadata": {
        "id": "AwsqVClj7LFX"
      }
    },
    {
      "cell_type": "code",
      "source": [],
      "metadata": {
        "id": "nw2DYzfw7Msv"
      },
      "execution_count": null,
      "outputs": []
    },
    {
      "cell_type": "markdown",
      "source": [
        "20. Remova os documentos duplicados do restaurante \"333 Chinese Takeaway\", preservando apenas um."
      ],
      "metadata": {
        "id": "NNKoh7jX7M4X"
      }
    },
    {
      "cell_type": "code",
      "source": [],
      "metadata": {
        "id": "TpHUW97a7OOI"
      },
      "execution_count": null,
      "outputs": []
    }
  ]
}